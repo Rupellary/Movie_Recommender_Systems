{
 "cells": [
  {
   "attachments": {},
   "cell_type": "markdown",
   "metadata": {},
   "source": [
    "# Recommender Systems\n",
    "Using Popularity Ranking, User-Based Collaborative Filtering and Item-Based Collaborative Filtering to recommend movies based on user or item inputs. Recommenders scored using various metrics with an offline train-test split"
   ]
  },
  {
   "attachments": {},
   "cell_type": "markdown",
   "metadata": {},
   "source": [
    "## Imports"
   ]
  },
  {
   "cell_type": "code",
   "execution_count": 1,
   "metadata": {},
   "outputs": [
    {
     "name": "stdout",
     "output_type": "stream",
     "text": [
      "Collecting lifelines\n",
      "  Downloading lifelines-0.27.6-py3-none-any.whl (409 kB)\n",
      "     -------------------------------------- 409.4/409.4 kB 5.1 MB/s eta 0:00:00\n",
      "Requirement already satisfied: matplotlib>=3.0 in c:\\users\\rockw\\anaconda3\\lib\\site-packages (from lifelines) (3.6.3)\n",
      "Collecting autograd-gamma>=0.3\n",
      "  Downloading autograd-gamma-0.5.0.tar.gz (4.0 kB)\n",
      "  Preparing metadata (setup.py): started\n",
      "  Preparing metadata (setup.py): finished with status 'done'\n",
      "Collecting formulaic>=0.2.2\n",
      "  Downloading formulaic-0.6.0-py3-none-any.whl (82 kB)\n",
      "     ---------------------------------------- 82.1/82.1 kB ? eta 0:00:00\n",
      "Requirement already satisfied: pandas>=1.0.0 in c:\\users\\rockw\\anaconda3\\lib\\site-packages (from lifelines) (1.5.3)\n",
      "Requirement already satisfied: scipy>=1.2.0 in c:\\users\\rockw\\anaconda3\\lib\\site-packages (from lifelines) (1.9.3)\n",
      "Collecting autograd>=1.5\n",
      "  Downloading autograd-1.5-py3-none-any.whl (48 kB)\n",
      "     ---------------------------------------- 48.9/48.9 kB 2.4 MB/s eta 0:00:00\n",
      "Requirement already satisfied: numpy>=1.14.0 in c:\\users\\rockw\\anaconda3\\lib\\site-packages (from lifelines) (1.23.5)\n",
      "Requirement already satisfied: future>=0.15.2 in c:\\users\\rockw\\anaconda3\\lib\\site-packages (from autograd>=1.5->lifelines) (0.18.3)\n",
      "Collecting interface-meta>=1.2.0\n",
      "  Downloading interface_meta-1.3.0-py3-none-any.whl (14 kB)\n",
      "Collecting astor>=0.8\n",
      "  Downloading astor-0.8.1-py2.py3-none-any.whl (27 kB)\n",
      "Requirement already satisfied: typing-extensions>=4.2.0 in c:\\users\\rockw\\anaconda3\\lib\\site-packages (from formulaic>=0.2.2->lifelines) (4.4.0)\n",
      "Requirement already satisfied: wrapt>=1.0 in c:\\users\\rockw\\anaconda3\\lib\\site-packages (from formulaic>=0.2.2->lifelines) (1.14.1)\n",
      "Requirement already satisfied: python-dateutil>=2.7 in c:\\users\\rockw\\anaconda3\\lib\\site-packages (from matplotlib>=3.0->lifelines) (2.8.2)\n",
      "Requirement already satisfied: kiwisolver>=1.0.1 in c:\\users\\rockw\\anaconda3\\lib\\site-packages (from matplotlib>=3.0->lifelines) (1.4.4)\n",
      "Requirement already satisfied: cycler>=0.10 in c:\\users\\rockw\\anaconda3\\lib\\site-packages (from matplotlib>=3.0->lifelines) (0.11.0)\n",
      "Requirement already satisfied: pillow>=6.2.0 in c:\\users\\rockw\\anaconda3\\lib\\site-packages (from matplotlib>=3.0->lifelines) (9.4.0)\n",
      "Requirement already satisfied: packaging>=20.0 in c:\\users\\rockw\\anaconda3\\lib\\site-packages (from matplotlib>=3.0->lifelines) (22.0)\n",
      "Requirement already satisfied: pyparsing>=2.2.1 in c:\\users\\rockw\\anaconda3\\lib\\site-packages (from matplotlib>=3.0->lifelines) (3.0.9)\n",
      "Requirement already satisfied: fonttools>=4.22.0 in c:\\users\\rockw\\anaconda3\\lib\\site-packages (from matplotlib>=3.0->lifelines) (4.25.0)\n",
      "Requirement already satisfied: contourpy>=1.0.1 in c:\\users\\rockw\\anaconda3\\lib\\site-packages (from matplotlib>=3.0->lifelines) (1.0.5)\n",
      "Requirement already satisfied: pytz>=2020.1 in c:\\users\\rockw\\anaconda3\\lib\\site-packages (from pandas>=1.0.0->lifelines) (2022.7)\n",
      "Requirement already satisfied: six>=1.5 in c:\\users\\rockw\\anaconda3\\lib\\site-packages (from python-dateutil>=2.7->matplotlib>=3.0->lifelines) (1.16.0)\n",
      "Building wheels for collected packages: autograd-gamma\n",
      "  Building wheel for autograd-gamma (setup.py): started\n",
      "  Building wheel for autograd-gamma (setup.py): finished with status 'done'\n",
      "  Created wheel for autograd-gamma: filename=autograd_gamma-0.5.0-py3-none-any.whl size=4049 sha256=21657802f2ea79d307b4cd5b97d2fe30777b3c1534777a0c61add6f3934f739b\n",
      "  Stored in directory: c:\\users\\rockw\\appdata\\local\\pip\\cache\\wheels\\e4\\30\\15\\a77aac970f4acc37b9bb9c7f56e73c7c85087f15ff0fb4720f\n",
      "Successfully built autograd-gamma\n",
      "Installing collected packages: interface-meta, autograd, astor, autograd-gamma, formulaic, lifelines\n",
      "Successfully installed astor-0.8.1 autograd-1.5 autograd-gamma-0.5.0 formulaic-0.6.0 interface-meta-1.3.0 lifelines-0.27.6\n",
      "Note: you may need to restart the kernel to use updated packages.\n"
     ]
    },
    {
     "name": "stderr",
     "output_type": "stream",
     "text": [
      "WARNING: Ignoring invalid distribution -atplotlib (c:\\users\\rockw\\anaconda3\\lib\\site-packages)\n",
      "WARNING: Ignoring invalid distribution -atplotlib (c:\\users\\rockw\\anaconda3\\lib\\site-packages)\n",
      "WARNING: Ignoring invalid distribution -atplotlib (c:\\users\\rockw\\anaconda3\\lib\\site-packages)\n",
      "WARNING: Ignoring invalid distribution -atplotlib (c:\\users\\rockw\\anaconda3\\lib\\site-packages)\n",
      "WARNING: Ignoring invalid distribution -atplotlib (c:\\users\\rockw\\anaconda3\\lib\\site-packages)\n",
      "WARNING: Ignoring invalid distribution -atplotlib (c:\\users\\rockw\\anaconda3\\lib\\site-packages)\n",
      "WARNING: Ignoring invalid distribution -atplotlib (c:\\users\\rockw\\anaconda3\\lib\\site-packages)\n",
      "WARNING: Ignoring invalid distribution -atplotlib (c:\\users\\rockw\\anaconda3\\lib\\site-packages)\n",
      "WARNING: Ignoring invalid distribution -atplotlib (c:\\users\\rockw\\anaconda3\\lib\\site-packages)\n",
      "WARNING: Ignoring invalid distribution -atplotlib (c:\\users\\rockw\\anaconda3\\lib\\site-packages)\n",
      "WARNING: Ignoring invalid distribution -atplotlib (c:\\users\\rockw\\anaconda3\\lib\\site-packages)\n",
      "WARNING: Ignoring invalid distribution -atplotlib (c:\\users\\rockw\\anaconda3\\lib\\site-packages)\n"
     ]
    }
   ],
   "source": [
    "%pip install lifelines"
   ]
  },
  {
   "cell_type": "code",
   "execution_count": 1,
   "metadata": {},
   "outputs": [],
   "source": [
    "# Importing Libraries\n",
    "\n",
    "from movie_rec_utils import *\n",
    "\n",
    "import pandas as pd\n",
    "from ydata_profiling import ProfileReport\n",
    "import math\n",
    "import numpy as np\n",
    "import matplotlib.pyplot as plt\n",
    "import difflib\n",
    "\n",
    "from sklearn.model_selection import train_test_split\n",
    "from sklearn.metrics.pairwise import cosine_similarity\n",
    "from sklearn.metrics import r2_score, mean_absolute_error\n",
    "from lifelines.utils import concordance_index"
   ]
  },
  {
   "cell_type": "code",
   "execution_count": 2,
   "metadata": {},
   "outputs": [],
   "source": [
    "# Reading Data\n",
    "links_df = pd.read_csv('../Data/links.csv')\n",
    "movies_df = pd.read_csv('../Data/movies.csv')\n",
    "ratings_df = pd.read_csv('../Data/ratings.csv')\n",
    "tags_df =pd.read_csv('../Data/tags.csv')"
   ]
  },
  {
   "attachments": {},
   "cell_type": "markdown",
   "metadata": {},
   "source": [
    "## Data Exploration"
   ]
  },
  {
   "cell_type": "code",
   "execution_count": null,
   "metadata": {},
   "outputs": [],
   "source": [
    "# Creating y-data profiling reports as html file\n",
    "movies_profile = ProfileReport(movies_df, minimal=True).to_file('movies_report.html')\n",
    "ratings_profile = ProfileReport(ratings_df, minimal=True).to_file('ratings_report.html')"
   ]
  },
  {
   "attachments": {},
   "cell_type": "markdown",
   "metadata": {},
   "source": [
    "# Recommenders"
   ]
  },
  {
   "attachments": {},
   "cell_type": "markdown",
   "metadata": {},
   "source": [
    "## Popularity Ranking"
   ]
  },
  {
   "attachments": {},
   "cell_type": "markdown",
   "metadata": {},
   "source": [
    "### Average Ranking, Filtered with Review Minimum"
   ]
  },
  {
   "cell_type": "code",
   "execution_count": 8,
   "metadata": {},
   "outputs": [
    {
     "data": {
      "text/plain": [
       "0                     Shawshank Redemption, The (1994)\n",
       "1                            Lawrence of Arabia (1962)\n",
       "2                                Godfather, The (1972)\n",
       "3                                    Fight Club (1999)\n",
       "4                                Cool Hand Luke (1967)\n",
       "5    Dr. Strangelove or: How I Learned to Stop Worr...\n",
       "6                                   Rear Window (1954)\n",
       "7                       Godfather: Part II, The (1974)\n",
       "8                                 Departed, The (2006)\n",
       "9                     Manchurian Candidate, The (1962)\n",
       "Name: title, dtype: object"
      ]
     },
     "execution_count": 8,
     "metadata": {},
     "output_type": "execute_result"
    }
   ],
   "source": [
    "# Getting movies with the highest average ratings, filtered to only those with more ratings than the threshold\n",
    "pop_movies = get_pop_rev(ratings_df=ratings_df,\n",
    "                         movies_df=movies_df,\n",
    "                         n=10,\n",
    "                         review_thresh=30)\n",
    "\n",
    "pop_movies"
   ]
  },
  {
   "attachments": {},
   "cell_type": "markdown",
   "metadata": {},
   "source": [
    "### Laplace Inspired Data Manipulation"
   ]
  },
  {
   "cell_type": "code",
   "execution_count": 5,
   "metadata": {},
   "outputs": [
    {
     "data": {
      "text/plain": [
       "0                     Shawshank Redemption, The (1994)\n",
       "1                                Godfather, The (1972)\n",
       "2                                    Fight Club (1999)\n",
       "3                       Godfather: Part II, The (1974)\n",
       "4            Star Wars: Episode IV - A New Hope (1977)\n",
       "5                           Usual Suspects, The (1995)\n",
       "6    Dr. Strangelove or: How I Learned to Stop Worr...\n",
       "7                              Schindler's List (1993)\n",
       "8                                    Goodfellas (1990)\n",
       "9                              Dark Knight, The (2008)\n",
       "Name: title, dtype: object"
      ]
     },
     "execution_count": 5,
     "metadata": {},
     "output_type": "execute_result"
    }
   ],
   "source": [
    "# Adding a few negative reviews for each movie thus punishing those with few reviews, then using the highest average rating. Inspired by Laplaces' Rule of Succession\n",
    "pop_movies = get_pop_laplace(ratings_df=ratings_df,\n",
    "                             movies_df=movies_df,\n",
    "                             n=10,\n",
    "                             rat=0.5,\n",
    "                             num_fake=2)\n",
    "pop_movies"
   ]
  },
  {
   "attachments": {},
   "cell_type": "markdown",
   "metadata": {},
   "source": [
    "### Cumulative Rating"
   ]
  },
  {
   "cell_type": "code",
   "execution_count": 3,
   "metadata": {},
   "outputs": [
    {
     "data": {
      "text/plain": [
       "0             Shawshank Redemption, The (1994)\n",
       "1                          Forrest Gump (1994)\n",
       "2                          Pulp Fiction (1994)\n",
       "3                           Matrix, The (1999)\n",
       "4             Silence of the Lambs, The (1991)\n",
       "5    Star Wars: Episode IV - A New Hope (1977)\n",
       "6                            Braveheart (1995)\n",
       "7                            Fight Club (1999)\n",
       "8                      Schindler's List (1993)\n",
       "9                         Jurassic Park (1993)\n",
       "Name: title, dtype: object"
      ]
     },
     "execution_count": 3,
     "metadata": {},
     "output_type": "execute_result"
    }
   ],
   "source": [
    "# Summing total ratings thus privledging both those with more reviews and those with higher reviews\n",
    "pop_movies = get_pop_cumulative(ratings_df=ratings_df,\n",
    "                                movies_df=movies_df,\n",
    "                                n=10)\n",
    "pop_movies"
   ]
  },
  {
   "attachments": {},
   "cell_type": "markdown",
   "metadata": {},
   "source": [
    "### Comparing Popularity Methods"
   ]
  },
  {
   "cell_type": "code",
   "execution_count": 5,
   "metadata": {},
   "outputs": [
    {
     "data": {
      "text/html": [
       "<div>\n",
       "<style scoped>\n",
       "    .dataframe tbody tr th:only-of-type {\n",
       "        vertical-align: middle;\n",
       "    }\n",
       "\n",
       "    .dataframe tbody tr th {\n",
       "        vertical-align: top;\n",
       "    }\n",
       "\n",
       "    .dataframe thead th {\n",
       "        text-align: right;\n",
       "    }\n",
       "</style>\n",
       "<table border=\"1\" class=\"dataframe\">\n",
       "  <thead>\n",
       "    <tr style=\"text-align: right;\">\n",
       "      <th></th>\n",
       "      <th>Average Review with Review Count Threshold Method</th>\n",
       "      <th>Laplace Inspired Method</th>\n",
       "      <th>Cumulative Total Ratings Method</th>\n",
       "    </tr>\n",
       "  </thead>\n",
       "  <tbody>\n",
       "    <tr>\n",
       "      <th>0</th>\n",
       "      <td>Shawshank Redemption, The (1994)</td>\n",
       "      <td>Shawshank Redemption, The (1994)</td>\n",
       "      <td>Shawshank Redemption, The (1994)</td>\n",
       "    </tr>\n",
       "    <tr>\n",
       "      <th>1</th>\n",
       "      <td>Lawrence of Arabia (1962)</td>\n",
       "      <td>Godfather, The (1972)</td>\n",
       "      <td>Forrest Gump (1994)</td>\n",
       "    </tr>\n",
       "    <tr>\n",
       "      <th>2</th>\n",
       "      <td>Godfather, The (1972)</td>\n",
       "      <td>Fight Club (1999)</td>\n",
       "      <td>Pulp Fiction (1994)</td>\n",
       "    </tr>\n",
       "    <tr>\n",
       "      <th>3</th>\n",
       "      <td>Fight Club (1999)</td>\n",
       "      <td>Godfather: Part II, The (1974)</td>\n",
       "      <td>Matrix, The (1999)</td>\n",
       "    </tr>\n",
       "    <tr>\n",
       "      <th>4</th>\n",
       "      <td>Cool Hand Luke (1967)</td>\n",
       "      <td>Star Wars: Episode IV - A New Hope (1977)</td>\n",
       "      <td>Silence of the Lambs, The (1991)</td>\n",
       "    </tr>\n",
       "    <tr>\n",
       "      <th>5</th>\n",
       "      <td>Dr. Strangelove or: How I Learned to Stop Worr...</td>\n",
       "      <td>Usual Suspects, The (1995)</td>\n",
       "      <td>Star Wars: Episode IV - A New Hope (1977)</td>\n",
       "    </tr>\n",
       "    <tr>\n",
       "      <th>6</th>\n",
       "      <td>Rear Window (1954)</td>\n",
       "      <td>Dr. Strangelove or: How I Learned to Stop Worr...</td>\n",
       "      <td>Braveheart (1995)</td>\n",
       "    </tr>\n",
       "    <tr>\n",
       "      <th>7</th>\n",
       "      <td>Godfather: Part II, The (1974)</td>\n",
       "      <td>Schindler's List (1993)</td>\n",
       "      <td>Fight Club (1999)</td>\n",
       "    </tr>\n",
       "    <tr>\n",
       "      <th>8</th>\n",
       "      <td>Departed, The (2006)</td>\n",
       "      <td>Goodfellas (1990)</td>\n",
       "      <td>Schindler's List (1993)</td>\n",
       "    </tr>\n",
       "    <tr>\n",
       "      <th>9</th>\n",
       "      <td>Manchurian Candidate, The (1962)</td>\n",
       "      <td>Dark Knight, The (2008)</td>\n",
       "      <td>Jurassic Park (1993)</td>\n",
       "    </tr>\n",
       "  </tbody>\n",
       "</table>\n",
       "</div>"
      ],
      "text/plain": [
       "   Average Review with Review Count Threshold Method  \\\n",
       "0                   Shawshank Redemption, The (1994)   \n",
       "1                          Lawrence of Arabia (1962)   \n",
       "2                              Godfather, The (1972)   \n",
       "3                                  Fight Club (1999)   \n",
       "4                              Cool Hand Luke (1967)   \n",
       "5  Dr. Strangelove or: How I Learned to Stop Worr...   \n",
       "6                                 Rear Window (1954)   \n",
       "7                     Godfather: Part II, The (1974)   \n",
       "8                               Departed, The (2006)   \n",
       "9                   Manchurian Candidate, The (1962)   \n",
       "\n",
       "                             Laplace Inspired Method  \\\n",
       "0                   Shawshank Redemption, The (1994)   \n",
       "1                              Godfather, The (1972)   \n",
       "2                                  Fight Club (1999)   \n",
       "3                     Godfather: Part II, The (1974)   \n",
       "4          Star Wars: Episode IV - A New Hope (1977)   \n",
       "5                         Usual Suspects, The (1995)   \n",
       "6  Dr. Strangelove or: How I Learned to Stop Worr...   \n",
       "7                            Schindler's List (1993)   \n",
       "8                                  Goodfellas (1990)   \n",
       "9                            Dark Knight, The (2008)   \n",
       "\n",
       "             Cumulative Total Ratings Method  \n",
       "0           Shawshank Redemption, The (1994)  \n",
       "1                        Forrest Gump (1994)  \n",
       "2                        Pulp Fiction (1994)  \n",
       "3                         Matrix, The (1999)  \n",
       "4           Silence of the Lambs, The (1991)  \n",
       "5  Star Wars: Episode IV - A New Hope (1977)  \n",
       "6                          Braveheart (1995)  \n",
       "7                          Fight Club (1999)  \n",
       "8                    Schindler's List (1993)  \n",
       "9                       Jurassic Park (1993)  "
      ]
     },
     "execution_count": 5,
     "metadata": {},
     "output_type": "execute_result"
    }
   ],
   "source": [
    "n=10\n",
    "pop_titles = {}\n",
    "\n",
    "pop_movies = get_pop_rev(ratings_df=ratings_df,\n",
    "                         movies_df=movies_df,\n",
    "                         n=n,\n",
    "                         review_thresh=30)\n",
    "pop_titles['Average Review with Review Count Threshold Method'] = pop_movies\n",
    "\n",
    "pop_movies = get_pop_laplace(ratings_df=ratings_df,\n",
    "                             movies_df=movies_df,\n",
    "                             n=n,\n",
    "                             rat=0.5,\n",
    "                             num_fake=2)\n",
    "pop_titles['Laplace Inspired Method'] = pop_movies\n",
    "\n",
    "pop_movies = get_pop_cumulative(ratings_df=ratings_df,\n",
    "                                movies_df=movies_df,\n",
    "                                n=n)\n",
    "pop_titles['Cumulative Total Ratings Method'] = pop_movies\n",
    "\n",
    "pop_df = pd.DataFrame(pop_titles)\n",
    "pop_df"
   ]
  },
  {
   "attachments": {},
   "cell_type": "markdown",
   "metadata": {},
   "source": [
    "## Collaborative Filtering"
   ]
  },
  {
   "attachments": {},
   "cell_type": "markdown",
   "metadata": {},
   "source": [
    "### Item-Based Collaborative Filtering"
   ]
  },
  {
   "cell_type": "code",
   "execution_count": 5,
   "metadata": {},
   "outputs": [
    {
     "name": "stderr",
     "output_type": "stream",
     "text": [
      "c:\\Users\\rockw\\anaconda3\\lib\\site-packages\\numpy\\lib\\function_base.py:2845: RuntimeWarning: Degrees of freedom <= 0 for slice\n",
      "  c = cov(x, y, rowvar, dtype=dtype)\n",
      "c:\\Users\\rockw\\anaconda3\\lib\\site-packages\\numpy\\lib\\function_base.py:2704: RuntimeWarning: divide by zero encountered in divide\n",
      "  c *= np.true_divide(1, fact)\n"
     ]
    },
    {
     "data": {
      "text/plain": [
       "0    Monty Python's And Now for Something Completel...\n",
       "1                             Road to Perdition (2002)\n",
       "2                                          Thor (2011)\n",
       "3                      X-Men Origins: Wolverine (2009)\n",
       "4                       Guardians of the Galaxy (2014)\n",
       "5                            North by Northwest (1959)\n",
       "6                                   Blue Velvet (1986)\n",
       "Name: title, dtype: object"
      ]
     },
     "execution_count": 5,
     "metadata": {},
     "output_type": "execute_result"
    }
   ],
   "source": [
    "similar_movies = item_based_rec(title='Nausicaä of the valley of the wind',\n",
    "                                ratings_df=ratings_df,\n",
    "                                movies_df=movies_df,\n",
    "                                n=7,\n",
    "                                shared_thresh=5,\n",
    "                                total_thresh=10,\n",
    "                                more_data = False)\n",
    "\n",
    "similar_movies"
   ]
  },
  {
   "attachments": {},
   "cell_type": "markdown",
   "metadata": {},
   "source": [
    "### User-Based Collaborative Filtering"
   ]
  },
  {
   "cell_type": "code",
   "execution_count": 12,
   "metadata": {},
   "outputs": [
    {
     "data": {
      "text/plain": [
       "0                                   Matrix, The (1999)\n",
       "1                     Shawshank Redemption, The (1994)\n",
       "2                                  Forrest Gump (1994)\n",
       "3    Lord of the Rings: The Fellowship of the Ring,...\n",
       "4                                    Fight Club (1999)\n",
       "Name: title, dtype: object"
      ]
     },
     "execution_count": 12,
     "metadata": {},
     "output_type": "execute_result"
    }
   ],
   "source": [
    "user_recs = user_based_rec(user_id=25,\n",
    "                           ratings_df=ratings_df,\n",
    "                           movies_df=movies_df,\n",
    "                           n=5,\n",
    "                           more_data=False)\n",
    "user_recs"
   ]
  },
  {
   "attachments": {},
   "cell_type": "markdown",
   "metadata": {},
   "source": [
    "#### Evaluating with Offline Methods"
   ]
  },
  {
   "cell_type": "code",
   "execution_count": 4,
   "metadata": {},
   "outputs": [],
   "source": [
    "# Spliting Training and Testing Data\n",
    "train, test = train_test_split(ratings_df[['userId', 'movieId', 'rating']], test_size=0.1, random_state=42)\n",
    "\n",
    "# Creating Training Data Frame\n",
    "useritem_train = create_train(ratings_df, train)"
   ]
  },
  {
   "cell_type": "code",
   "execution_count": 5,
   "metadata": {},
   "outputs": [],
   "source": [
    "# Computing User Cosine Similarity\n",
    "cos_sim_df = pd.DataFrame(cosine_similarity(useritem_train, useritem_train), \n",
    "                          index=useritem_train.index, \n",
    "                          columns=useritem_train.index)"
   ]
  },
  {
   "cell_type": "code",
   "execution_count": 6,
   "metadata": {},
   "outputs": [],
   "source": [
    "# Predicting/Estimating Ratings for Test Data Using Custom Function and Similarity Matrix\n",
    "test['estimated_rating'] = test.apply(lambda row: estimate_rating(useritem_train, row['userId'], row['movieId'], cos_sim_df), axis=1)"
   ]
  },
  {
   "cell_type": "code",
   "execution_count": 7,
   "metadata": {},
   "outputs": [
    {
     "data": {
      "text/html": [
       "<div>\n",
       "<style scoped>\n",
       "    .dataframe tbody tr th:only-of-type {\n",
       "        vertical-align: middle;\n",
       "    }\n",
       "\n",
       "    .dataframe tbody tr th {\n",
       "        vertical-align: top;\n",
       "    }\n",
       "\n",
       "    .dataframe thead th {\n",
       "        text-align: right;\n",
       "    }\n",
       "</style>\n",
       "<table border=\"1\" class=\"dataframe\">\n",
       "  <thead>\n",
       "    <tr style=\"text-align: right;\">\n",
       "      <th></th>\n",
       "      <th>Mean Absolute Error</th>\n",
       "      <th>Concordance Index</th>\n",
       "      <th>R Squared</th>\n",
       "    </tr>\n",
       "  </thead>\n",
       "  <tbody>\n",
       "    <tr>\n",
       "      <th>0</th>\n",
       "      <td>2.99641</td>\n",
       "      <td>0.605972</td>\n",
       "      <td>-8.108931</td>\n",
       "    </tr>\n",
       "  </tbody>\n",
       "</table>\n",
       "</div>"
      ],
      "text/plain": [
       "   Mean Absolute Error  Concordance Index  R Squared\n",
       "0              2.99641           0.605972  -8.108931"
      ]
     },
     "metadata": {},
     "output_type": "display_data"
    }
   ],
   "source": [
    "# Computing Performance Metrics\n",
    "scores_df = score_est(test['rating'], test['estimated_rating'])\n",
    "display(scores_df)"
   ]
  }
 ],
 "metadata": {
  "kernelspec": {
   "display_name": "base",
   "language": "python",
   "name": "python3"
  },
  "language_info": {
   "codemirror_mode": {
    "name": "ipython",
    "version": 3
   },
   "file_extension": ".py",
   "mimetype": "text/x-python",
   "name": "python",
   "nbconvert_exporter": "python",
   "pygments_lexer": "ipython3",
   "version": "3.10.9"
  },
  "orig_nbformat": 4
 },
 "nbformat": 4,
 "nbformat_minor": 2
}
