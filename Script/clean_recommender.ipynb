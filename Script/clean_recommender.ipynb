{
 "cells": [
  {
   "attachments": {},
   "cell_type": "markdown",
   "metadata": {},
   "source": [
    "# Recommender Systems\n",
    "Using Popularity Ranking, User-Based Collaborative Filtering and Item-Based Collaborative Filtering to recommend movies based on user or item inputs. Recommenders scored using various metrics with an offline train-test split"
   ]
  },
  {
   "attachments": {},
   "cell_type": "markdown",
   "metadata": {},
   "source": [
    "## Imports"
   ]
  },
  {
   "cell_type": "code",
   "execution_count": 1,
   "metadata": {},
   "outputs": [],
   "source": [
    "# Importing Libraries\n",
    "\n",
    "from movie_rec_utils import *\n",
    "\n",
    "import pandas as pd\n",
    "from ydata_profiling import ProfileReport\n",
    "import math\n",
    "import numpy as np\n",
    "import matplotlib.pyplot as plt\n",
    "import difflib\n",
    "import re\n",
    "import streamlit as st\n",
    "\n",
    "from sklearn.model_selection import train_test_split\n",
    "from sklearn.metrics.pairwise import cosine_similarity\n",
    "from sklearn.metrics import r2_score, mean_absolute_error\n",
    "from lifelines.utils import concordance_index"
   ]
  },
  {
   "cell_type": "code",
   "execution_count": 2,
   "metadata": {},
   "outputs": [],
   "source": [
    "# Reading Data\n",
    "links_df = pd.read_csv('../Data/links.csv')\n",
    "movies_df = pd.read_csv('../Data/movies.csv')\n",
    "ratings_df = pd.read_csv('../Data/ratings.csv')\n",
    "tags_df =pd.read_csv('../Data/tags.csv')"
   ]
  },
  {
   "attachments": {},
   "cell_type": "markdown",
   "metadata": {},
   "source": [
    "## Data Exploration"
   ]
  },
  {
   "cell_type": "code",
   "execution_count": 3,
   "metadata": {},
   "outputs": [
    {
     "data": {
      "application/vnd.jupyter.widget-view+json": {
       "model_id": "c4c4e6748f8841dda0333e2dfca17c0d",
       "version_major": 2,
       "version_minor": 0
      },
      "text/plain": [
       "Summarize dataset:   0%|          | 0/5 [00:00<?, ?it/s]"
      ]
     },
     "metadata": {},
     "output_type": "display_data"
    },
    {
     "data": {
      "application/vnd.jupyter.widget-view+json": {
       "model_id": "090193c99afb4314aa9aa6ac3ae572c0",
       "version_major": 2,
       "version_minor": 0
      },
      "text/plain": [
       "Generate report structure:   0%|          | 0/1 [00:00<?, ?it/s]"
      ]
     },
     "metadata": {},
     "output_type": "display_data"
    },
    {
     "data": {
      "application/vnd.jupyter.widget-view+json": {
       "model_id": "54946e25f6954a189ada2ec5eff0c0dc",
       "version_major": 2,
       "version_minor": 0
      },
      "text/plain": [
       "Render HTML:   0%|          | 0/1 [00:00<?, ?it/s]"
      ]
     },
     "metadata": {},
     "output_type": "display_data"
    },
    {
     "data": {
      "application/vnd.jupyter.widget-view+json": {
       "model_id": "99be5aee39444af29b3ccc9afdb90492",
       "version_major": 2,
       "version_minor": 0
      },
      "text/plain": [
       "Export report to file:   0%|          | 0/1 [00:00<?, ?it/s]"
      ]
     },
     "metadata": {},
     "output_type": "display_data"
    },
    {
     "data": {
      "application/vnd.jupyter.widget-view+json": {
       "model_id": "bcd6429ed21f44aab584f49d850ccbfa",
       "version_major": 2,
       "version_minor": 0
      },
      "text/plain": [
       "Summarize dataset:   0%|          | 0/5 [00:00<?, ?it/s]"
      ]
     },
     "metadata": {},
     "output_type": "display_data"
    },
    {
     "data": {
      "application/vnd.jupyter.widget-view+json": {
       "model_id": "e68c7c410cc64adc9a59c7cda01202cd",
       "version_major": 2,
       "version_minor": 0
      },
      "text/plain": [
       "Generate report structure:   0%|          | 0/1 [00:00<?, ?it/s]"
      ]
     },
     "metadata": {},
     "output_type": "display_data"
    },
    {
     "data": {
      "application/vnd.jupyter.widget-view+json": {
       "model_id": "a66f3278642e4222b19601c6d649c044",
       "version_major": 2,
       "version_minor": 0
      },
      "text/plain": [
       "Render HTML:   0%|          | 0/1 [00:00<?, ?it/s]"
      ]
     },
     "metadata": {},
     "output_type": "display_data"
    },
    {
     "data": {
      "application/vnd.jupyter.widget-view+json": {
       "model_id": "964d3607356b4ce5911bb8c6c41309a8",
       "version_major": 2,
       "version_minor": 0
      },
      "text/plain": [
       "Export report to file:   0%|          | 0/1 [00:00<?, ?it/s]"
      ]
     },
     "metadata": {},
     "output_type": "display_data"
    }
   ],
   "source": [
    "# Creating y-data profiling reports as html file\n",
    "movies_profile = ProfileReport(movies_df, minimal=True).to_file('movies_report.html')\n",
    "ratings_profile = ProfileReport(ratings_df, minimal=True).to_file('ratings_report.html')"
   ]
  },
  {
   "attachments": {},
   "cell_type": "markdown",
   "metadata": {},
   "source": [
    "# Recommenders"
   ]
  },
  {
   "attachments": {},
   "cell_type": "markdown",
   "metadata": {},
   "source": [
    "## Popularity Ranking"
   ]
  },
  {
   "attachments": {},
   "cell_type": "markdown",
   "metadata": {},
   "source": [
    "### Average Ranking, Filtered with Review Minimum"
   ]
  },
  {
   "cell_type": "code",
   "execution_count": 4,
   "metadata": {},
   "outputs": [
    {
     "data": {
      "text/plain": [
       "0                     Shawshank Redemption, The (1994)\n",
       "1                            Lawrence of Arabia (1962)\n",
       "2                                Godfather, The (1972)\n",
       "3                                    Fight Club (1999)\n",
       "4                                Cool Hand Luke (1967)\n",
       "5    Dr. Strangelove or: How I Learned to Stop Worr...\n",
       "6                                   Rear Window (1954)\n",
       "7                       Godfather: Part II, The (1974)\n",
       "8                                 Departed, The (2006)\n",
       "9                     Manchurian Candidate, The (1962)\n",
       "Name: title, dtype: object"
      ]
     },
     "execution_count": 4,
     "metadata": {},
     "output_type": "execute_result"
    }
   ],
   "source": [
    "# Getting movies with the highest average ratings, filtered to only those with more ratings than the threshold\n",
    "pop_movies = get_pop_rev(ratings_df=ratings_df,\n",
    "                         movies_df=movies_df,\n",
    "                         n=10,\n",
    "                         review_thresh=30)\n",
    "\n",
    "pop_movies"
   ]
  },
  {
   "attachments": {},
   "cell_type": "markdown",
   "metadata": {},
   "source": [
    "### Laplace Inspired Data Manipulation"
   ]
  },
  {
   "cell_type": "code",
   "execution_count": 5,
   "metadata": {},
   "outputs": [
    {
     "data": {
      "text/plain": [
       "0                     Shawshank Redemption, The (1994)\n",
       "1                                Godfather, The (1972)\n",
       "2                                    Fight Club (1999)\n",
       "3                       Godfather: Part II, The (1974)\n",
       "4            Star Wars: Episode IV - A New Hope (1977)\n",
       "5                           Usual Suspects, The (1995)\n",
       "6    Dr. Strangelove or: How I Learned to Stop Worr...\n",
       "7                              Schindler's List (1993)\n",
       "8                                    Goodfellas (1990)\n",
       "9                              Dark Knight, The (2008)\n",
       "Name: title, dtype: object"
      ]
     },
     "execution_count": 5,
     "metadata": {},
     "output_type": "execute_result"
    }
   ],
   "source": [
    "# Adding a few negative reviews for each movie thus punishing those with few reviews, then using the highest average rating. Inspired by Laplaces' Rule of Succession\n",
    "pop_movies = get_pop_laplace(ratings_df=ratings_df,\n",
    "                             movies_df=movies_df,\n",
    "                             n=10,\n",
    "                             rat=0.5,\n",
    "                             num_fake=2)\n",
    "pop_movies"
   ]
  },
  {
   "attachments": {},
   "cell_type": "markdown",
   "metadata": {},
   "source": [
    "### Cumulative Rating"
   ]
  },
  {
   "cell_type": "code",
   "execution_count": 6,
   "metadata": {},
   "outputs": [
    {
     "data": {
      "text/plain": [
       "0             Shawshank Redemption, The (1994)\n",
       "1                          Forrest Gump (1994)\n",
       "2                          Pulp Fiction (1994)\n",
       "3                           Matrix, The (1999)\n",
       "4             Silence of the Lambs, The (1991)\n",
       "5    Star Wars: Episode IV - A New Hope (1977)\n",
       "6                            Braveheart (1995)\n",
       "7                            Fight Club (1999)\n",
       "8                      Schindler's List (1993)\n",
       "9                         Jurassic Park (1993)\n",
       "Name: title, dtype: object"
      ]
     },
     "execution_count": 6,
     "metadata": {},
     "output_type": "execute_result"
    }
   ],
   "source": [
    "# Summing total ratings thus privledging both those with more reviews and those with higher reviews\n",
    "pop_movies = get_pop_cumulative(ratings_df=ratings_df,\n",
    "                                movies_df=movies_df,\n",
    "                                n=10)\n",
    "pop_movies"
   ]
  },
  {
   "attachments": {},
   "cell_type": "markdown",
   "metadata": {},
   "source": [
    "### Comparing Popularity Methods"
   ]
  },
  {
   "cell_type": "code",
   "execution_count": 7,
   "metadata": {},
   "outputs": [
    {
     "data": {
      "text/html": [
       "<div>\n",
       "<style scoped>\n",
       "    .dataframe tbody tr th:only-of-type {\n",
       "        vertical-align: middle;\n",
       "    }\n",
       "\n",
       "    .dataframe tbody tr th {\n",
       "        vertical-align: top;\n",
       "    }\n",
       "\n",
       "    .dataframe thead th {\n",
       "        text-align: right;\n",
       "    }\n",
       "</style>\n",
       "<table border=\"1\" class=\"dataframe\">\n",
       "  <thead>\n",
       "    <tr style=\"text-align: right;\">\n",
       "      <th></th>\n",
       "      <th>Average Review with Review Count Threshold Method</th>\n",
       "      <th>Laplace Inspired Method</th>\n",
       "      <th>Cumulative Total Ratings Method</th>\n",
       "    </tr>\n",
       "  </thead>\n",
       "  <tbody>\n",
       "    <tr>\n",
       "      <th>0</th>\n",
       "      <td>Shawshank Redemption, The (1994)</td>\n",
       "      <td>Shawshank Redemption, The (1994)</td>\n",
       "      <td>Shawshank Redemption, The (1994)</td>\n",
       "    </tr>\n",
       "    <tr>\n",
       "      <th>1</th>\n",
       "      <td>Lawrence of Arabia (1962)</td>\n",
       "      <td>Godfather, The (1972)</td>\n",
       "      <td>Forrest Gump (1994)</td>\n",
       "    </tr>\n",
       "    <tr>\n",
       "      <th>2</th>\n",
       "      <td>Godfather, The (1972)</td>\n",
       "      <td>Fight Club (1999)</td>\n",
       "      <td>Pulp Fiction (1994)</td>\n",
       "    </tr>\n",
       "    <tr>\n",
       "      <th>3</th>\n",
       "      <td>Fight Club (1999)</td>\n",
       "      <td>Godfather: Part II, The (1974)</td>\n",
       "      <td>Matrix, The (1999)</td>\n",
       "    </tr>\n",
       "    <tr>\n",
       "      <th>4</th>\n",
       "      <td>Cool Hand Luke (1967)</td>\n",
       "      <td>Star Wars: Episode IV - A New Hope (1977)</td>\n",
       "      <td>Silence of the Lambs, The (1991)</td>\n",
       "    </tr>\n",
       "    <tr>\n",
       "      <th>5</th>\n",
       "      <td>Dr. Strangelove or: How I Learned to Stop Worr...</td>\n",
       "      <td>Usual Suspects, The (1995)</td>\n",
       "      <td>Star Wars: Episode IV - A New Hope (1977)</td>\n",
       "    </tr>\n",
       "    <tr>\n",
       "      <th>6</th>\n",
       "      <td>Rear Window (1954)</td>\n",
       "      <td>Dr. Strangelove or: How I Learned to Stop Worr...</td>\n",
       "      <td>Braveheart (1995)</td>\n",
       "    </tr>\n",
       "    <tr>\n",
       "      <th>7</th>\n",
       "      <td>Godfather: Part II, The (1974)</td>\n",
       "      <td>Schindler's List (1993)</td>\n",
       "      <td>Fight Club (1999)</td>\n",
       "    </tr>\n",
       "    <tr>\n",
       "      <th>8</th>\n",
       "      <td>Departed, The (2006)</td>\n",
       "      <td>Goodfellas (1990)</td>\n",
       "      <td>Schindler's List (1993)</td>\n",
       "    </tr>\n",
       "    <tr>\n",
       "      <th>9</th>\n",
       "      <td>Manchurian Candidate, The (1962)</td>\n",
       "      <td>Dark Knight, The (2008)</td>\n",
       "      <td>Jurassic Park (1993)</td>\n",
       "    </tr>\n",
       "  </tbody>\n",
       "</table>\n",
       "</div>"
      ],
      "text/plain": [
       "   Average Review with Review Count Threshold Method  \\\n",
       "0                   Shawshank Redemption, The (1994)   \n",
       "1                          Lawrence of Arabia (1962)   \n",
       "2                              Godfather, The (1972)   \n",
       "3                                  Fight Club (1999)   \n",
       "4                              Cool Hand Luke (1967)   \n",
       "5  Dr. Strangelove or: How I Learned to Stop Worr...   \n",
       "6                                 Rear Window (1954)   \n",
       "7                     Godfather: Part II, The (1974)   \n",
       "8                               Departed, The (2006)   \n",
       "9                   Manchurian Candidate, The (1962)   \n",
       "\n",
       "                             Laplace Inspired Method  \\\n",
       "0                   Shawshank Redemption, The (1994)   \n",
       "1                              Godfather, The (1972)   \n",
       "2                                  Fight Club (1999)   \n",
       "3                     Godfather: Part II, The (1974)   \n",
       "4          Star Wars: Episode IV - A New Hope (1977)   \n",
       "5                         Usual Suspects, The (1995)   \n",
       "6  Dr. Strangelove or: How I Learned to Stop Worr...   \n",
       "7                            Schindler's List (1993)   \n",
       "8                                  Goodfellas (1990)   \n",
       "9                            Dark Knight, The (2008)   \n",
       "\n",
       "             Cumulative Total Ratings Method  \n",
       "0           Shawshank Redemption, The (1994)  \n",
       "1                        Forrest Gump (1994)  \n",
       "2                        Pulp Fiction (1994)  \n",
       "3                         Matrix, The (1999)  \n",
       "4           Silence of the Lambs, The (1991)  \n",
       "5  Star Wars: Episode IV - A New Hope (1977)  \n",
       "6                          Braveheart (1995)  \n",
       "7                          Fight Club (1999)  \n",
       "8                    Schindler's List (1993)  \n",
       "9                       Jurassic Park (1993)  "
      ]
     },
     "execution_count": 7,
     "metadata": {},
     "output_type": "execute_result"
    }
   ],
   "source": [
    "n=10\n",
    "pop_titles = {}\n",
    "\n",
    "pop_movies = get_pop_rev(ratings_df=ratings_df,\n",
    "                         movies_df=movies_df,\n",
    "                         n=n,\n",
    "                         review_thresh=30)\n",
    "pop_titles['Average Review with Review Count Threshold Method'] = pop_movies\n",
    "\n",
    "pop_movies = get_pop_laplace(ratings_df=ratings_df,\n",
    "                             movies_df=movies_df,\n",
    "                             n=n,\n",
    "                             rat=0.5,\n",
    "                             num_fake=2)\n",
    "pop_titles['Laplace Inspired Method'] = pop_movies\n",
    "\n",
    "pop_movies = get_pop_cumulative(ratings_df=ratings_df,\n",
    "                                movies_df=movies_df,\n",
    "                                n=n)\n",
    "pop_titles['Cumulative Total Ratings Method'] = pop_movies\n",
    "\n",
    "pop_df = pd.DataFrame(pop_titles)\n",
    "pop_df"
   ]
  },
  {
   "attachments": {},
   "cell_type": "markdown",
   "metadata": {},
   "source": [
    "## Collaborative Filtering"
   ]
  },
  {
   "attachments": {},
   "cell_type": "markdown",
   "metadata": {},
   "source": [
    "### Item-Based Collaborative Filtering"
   ]
  },
  {
   "cell_type": "code",
   "execution_count": 4,
   "metadata": {},
   "outputs": [
    {
     "name": "stdout",
     "output_type": "stream",
     "text": [
      "Top 7 titles similar to Star Wars: Episode IV - A New Hope (1977):\n"
     ]
    },
    {
     "name": "stderr",
     "output_type": "stream",
     "text": [
      "c:\\Users\\rockw\\anaconda3\\lib\\site-packages\\numpy\\lib\\function_base.py:2845: RuntimeWarning: Degrees of freedom <= 0 for slice\n",
      "  c = cov(x, y, rowvar, dtype=dtype)\n",
      "c:\\Users\\rockw\\anaconda3\\lib\\site-packages\\numpy\\lib\\function_base.py:2704: RuntimeWarning: divide by zero encountered in divide\n",
      "  c *= np.true_divide(1, fact)\n"
     ]
    },
    {
     "data": {
      "text/plain": [
       "0               Avengers: Infinity War - Part I (2018)\n",
       "1      Three Colors: White (Trzy kolory: Bialy) (1994)\n",
       "2    Girl Who Leapt Through Time, The (Toki o kaker...\n",
       "3                                Hidden Figures (2016)\n",
       "4                               Despicable Me 2 (2013)\n",
       "5                                          Coco (2017)\n",
       "6                               American Hustle (2013)\n",
       "Name: title, dtype: object"
      ]
     },
     "execution_count": 4,
     "metadata": {},
     "output_type": "execute_result"
    }
   ],
   "source": [
    "similar_movies = item_based_rec(title='star wars episode IV',\n",
    "                                ratings_df=ratings_df,\n",
    "                                movies_df=movies_df,\n",
    "                                n=7,\n",
    "                                shared_thresh=5,\n",
    "                                total_thresh=10,\n",
    "                                more_data = False)\n",
    "\n",
    "similar_movies"
   ]
  },
  {
   "attachments": {},
   "cell_type": "markdown",
   "metadata": {},
   "source": [
    "### User-Based Collaborative Filtering"
   ]
  },
  {
   "cell_type": "code",
   "execution_count": 12,
   "metadata": {},
   "outputs": [
    {
     "data": {
      "text/plain": [
       "0                                   Matrix, The (1999)\n",
       "1                     Shawshank Redemption, The (1994)\n",
       "2                                  Forrest Gump (1994)\n",
       "3    Lord of the Rings: The Fellowship of the Ring,...\n",
       "4                                    Fight Club (1999)\n",
       "Name: title, dtype: object"
      ]
     },
     "execution_count": 12,
     "metadata": {},
     "output_type": "execute_result"
    }
   ],
   "source": [
    "user_recs = user_based_rec(user_id=25,\n",
    "                           ratings_df=ratings_df,\n",
    "                           movies_df=movies_df,\n",
    "                           n=5,\n",
    "                           more_data=False)\n",
    "user_recs"
   ]
  },
  {
   "attachments": {},
   "cell_type": "markdown",
   "metadata": {},
   "source": [
    "#### Evaluating with Offline Methods"
   ]
  },
  {
   "cell_type": "code",
   "execution_count": 4,
   "metadata": {},
   "outputs": [],
   "source": [
    "# Spliting Training and Testing Data\n",
    "train, test = train_test_split(ratings_df[['userId', 'movieId', 'rating']], test_size=0.1, random_state=42)\n",
    "\n",
    "# Creating Training Data Frame\n",
    "useritem_train = create_train(ratings_df, train)"
   ]
  },
  {
   "cell_type": "code",
   "execution_count": 5,
   "metadata": {},
   "outputs": [],
   "source": [
    "# Computing User Cosine Similarity\n",
    "cos_sim_df = pd.DataFrame(cosine_similarity(useritem_train, useritem_train), \n",
    "                          index=useritem_train.index, \n",
    "                          columns=useritem_train.index)"
   ]
  },
  {
   "cell_type": "code",
   "execution_count": 6,
   "metadata": {},
   "outputs": [],
   "source": [
    "# Predicting/Estimating Ratings for Test Data Using Custom Function and Similarity Matrix\n",
    "test['estimated_rating'] = test.apply(lambda row: estimate_rating(useritem_train, row['userId'], row['movieId'], cos_sim_df), axis=1)"
   ]
  },
  {
   "cell_type": "code",
   "execution_count": 7,
   "metadata": {},
   "outputs": [
    {
     "data": {
      "text/html": [
       "<div>\n",
       "<style scoped>\n",
       "    .dataframe tbody tr th:only-of-type {\n",
       "        vertical-align: middle;\n",
       "    }\n",
       "\n",
       "    .dataframe tbody tr th {\n",
       "        vertical-align: top;\n",
       "    }\n",
       "\n",
       "    .dataframe thead th {\n",
       "        text-align: right;\n",
       "    }\n",
       "</style>\n",
       "<table border=\"1\" class=\"dataframe\">\n",
       "  <thead>\n",
       "    <tr style=\"text-align: right;\">\n",
       "      <th></th>\n",
       "      <th>Mean Absolute Error</th>\n",
       "      <th>Concordance Index</th>\n",
       "      <th>R Squared</th>\n",
       "    </tr>\n",
       "  </thead>\n",
       "  <tbody>\n",
       "    <tr>\n",
       "      <th>0</th>\n",
       "      <td>2.99641</td>\n",
       "      <td>0.605972</td>\n",
       "      <td>-8.108931</td>\n",
       "    </tr>\n",
       "  </tbody>\n",
       "</table>\n",
       "</div>"
      ],
      "text/plain": [
       "   Mean Absolute Error  Concordance Index  R Squared\n",
       "0              2.99641           0.605972  -8.108931"
      ]
     },
     "metadata": {},
     "output_type": "display_data"
    }
   ],
   "source": [
    "# Computing Performance Metrics\n",
    "scores_df = score_est(test['rating'], test['estimated_rating'])\n",
    "display(scores_df)"
   ]
  }
 ],
 "metadata": {
  "kernelspec": {
   "display_name": "base",
   "language": "python",
   "name": "python3"
  },
  "language_info": {
   "codemirror_mode": {
    "name": "ipython",
    "version": 3
   },
   "file_extension": ".py",
   "mimetype": "text/x-python",
   "name": "python",
   "nbconvert_exporter": "python",
   "pygments_lexer": "ipython3",
   "version": "3.10.9"
  },
  "orig_nbformat": 4
 },
 "nbformat": 4,
 "nbformat_minor": 2
}
